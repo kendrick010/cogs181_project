{
 "cells": [
  {
   "cell_type": "code",
   "execution_count": 2,
   "id": "4e2206b1",
   "metadata": {},
   "outputs": [
    {
     "name": "stdout",
     "output_type": "stream",
     "text": [
      "['onepiece', 'bukonohero', 'blackclover']\n"
     ]
    }
   ],
   "source": [
    "import os\n",
    "print(os.listdir(\"./dataset/unified\"))"
   ]
  },
  {
   "cell_type": "code",
   "execution_count": 5,
   "id": "dc8e2e1e",
   "metadata": {},
   "outputs": [
    {
     "name": "stdout",
     "output_type": "stream",
     "text": [
      "Directory path:  ./dataset/unified\n",
      "Directory path:  ./dataset/unified/onepiece\n",
      "Directory path:  ./dataset/unified/onepiece/grayscale\n",
      "Directory path:  ./dataset/unified/onepiece/colored\n",
      "Directory path:  ./dataset/unified/bukonohero\n",
      "Directory path:  ./dataset/unified/bukonohero/grayscale\n",
      "Directory path:  ./dataset/unified/bukonohero/colored\n",
      "Directory path:  ./dataset/unified/blackclover\n",
      "Directory path:  ./dataset/unified/blackclover/grayscale\n",
      "Directory path:  ./dataset/unified/blackclover/colored\n"
     ]
    }
   ],
   "source": [
    "from os import walk\n",
    "for (dirpath, dirnames, filenames) in walk(\"./dataset/unified\"):\n",
    "    print(\"Directory path: \", dirpath)"
   ]
  },
  {
   "cell_type": "code",
   "execution_count": 19,
   "id": "59ef1c97",
   "metadata": {},
   "outputs": [
    {
     "data": {
      "text/plain": [
       "1461"
      ]
     },
     "execution_count": 19,
     "metadata": {},
     "output_type": "execute_result"
    }
   ],
   "source": [
    "import os\n",
    "from PIL import Image \n",
    "\n",
    "folder_images = \"./dataset/unified/onepiece/colored\"\n",
    "size_images = dict()\n",
    "\n",
    "for dirpath, _, filenames in os.walk(folder_images):\n",
    "    for path_image in filenames:\n",
    "        image = os.path.abspath(os.path.join(dirpath, path_image))\n",
    "        with Image.open(image) as img:\n",
    "            width, heigth = img.size\n",
    "            size_images[path_image] = {'width': width, 'heigth': heigth}\n",
    "\n",
    "len(size_images)"
   ]
  },
  {
   "cell_type": "code",
   "execution_count": 10,
   "id": "4822f60b",
   "metadata": {},
   "outputs": [],
   "source": [
    "import torch\n",
    "import torch.nn as nn\n",
    "from torch.utils.data import Dataset\n",
    "import torchvision\n",
    "import torchvision.datasets as dset\n",
    "import torchvision.transforms as T\n",
    "from torchvision import datasets, transforms"
   ]
  },
  {
   "cell_type": "code",
   "execution_count": 11,
   "id": "940203ff",
   "metadata": {},
   "outputs": [
    {
     "ename": "NameError",
     "evalue": "name 'transform' is not defined",
     "output_type": "error",
     "traceback": [
      "\u001b[0;31m---------------------------------------------------------------------------\u001b[0m",
      "\u001b[0;31mNameError\u001b[0m                                 Traceback (most recent call last)",
      "Cell \u001b[0;32mIn[11], line 1\u001b[0m\n\u001b[0;32m----> 1\u001b[0m dataset \u001b[38;5;241m=\u001b[39m datasets\u001b[38;5;241m.\u001b[39mImageFolder(\u001b[38;5;124m'\u001b[39m\u001b[38;5;124m./dataset/unified/onepiece\u001b[39m\u001b[38;5;124m'\u001b[39m, transform\u001b[38;5;241m=\u001b[39m\u001b[43mtransform\u001b[49m)\n",
      "\u001b[0;31mNameError\u001b[0m: name 'transform' is not defined"
     ]
    }
   ],
   "source": [
    "dataset = datasets.ImageFolder('./dataset/unified/onepiece', transform=transform)"
   ]
  },
  {
   "cell_type": "code",
   "execution_count": null,
   "id": "52f74679",
   "metadata": {},
   "outputs": [],
   "source": []
  }
 ],
 "metadata": {
  "kernelspec": {
   "display_name": "ECE176_WI24",
   "language": "python",
   "name": "ece176_wi24"
  },
  "language_info": {
   "codemirror_mode": {
    "name": "ipython",
    "version": 3
   },
   "file_extension": ".py",
   "mimetype": "text/x-python",
   "name": "python",
   "nbconvert_exporter": "python",
   "pygments_lexer": "ipython3",
   "version": "3.9.5"
  }
 },
 "nbformat": 4,
 "nbformat_minor": 5
}
