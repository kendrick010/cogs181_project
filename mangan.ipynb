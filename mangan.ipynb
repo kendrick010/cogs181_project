{
 "cells": [
  {
   "cell_type": "code",
   "execution_count": 16,
   "id": "9e40164b-43ea-4cad-9f8c-aebfceb4dfab",
   "metadata": {
    "tags": []
   },
   "outputs": [],
   "source": [
    "import torch\n",
    "import torch.nn as nn\n",
    "from torch.utils.data import Dataset\n",
    "import torchvision\n",
    "import torchvision.transforms as transforms\n",
    "import torchvision.datasets as dset\n",
    "import torchvision.transforms as T\n",
    "import PIL\n",
    "from PIL import Image\n",
    "import numpy as np\n",
    "import os\n",
    "import torch.optim as optim\n",
    "from torch.autograd import Variable\n",
    "import matplotlib.pyplot as plt"
   ]
  },
  {
   "cell_type": "code",
   "execution_count": 11,
   "id": "6316d677-5d9b-4375-a9db-3ebb5bbf29b4",
   "metadata": {
    "tags": []
   },
   "outputs": [
    {
     "name": "stdout",
     "output_type": "stream",
     "text": [
      "using device: cuda\n"
     ]
    }
   ],
   "source": [
    "if torch.cuda.is_available():\n",
    "    device = torch.device('cuda')\n",
    "else:\n",
    "    device = torch.device('cpu')\n",
    "\n",
    "print('using device:', device)"
   ]
  },
  {
   "cell_type": "code",
   "execution_count": 13,
   "id": "5b194b8b-7ba1-4366-8cac-84e17507bed0",
   "metadata": {
    "tags": []
   },
   "outputs": [
    {
     "data": {
      "text/plain": [
       "5.99951171875"
      ]
     },
     "execution_count": 13,
     "metadata": {},
     "output_type": "execute_result"
    }
   ],
   "source": [
    "# memory check\n",
    "t = torch.cuda.get_device_properties(0).total_memory\n",
    "t/1024/1024/1024"
   ]
  },
  {
   "cell_type": "markdown",
   "id": "bbb880a7-4b21-491a-9f60-ff0dc6bfd935",
   "metadata": {},
   "source": [
    "## Using Pix2Pix GAN architecture to translate black and white manga panels to colored versions"
   ]
  },
  {
   "cell_type": "code",
   "execution_count": 17,
   "id": "11da8573-9766-4acd-b9ef-b227c373dc51",
   "metadata": {
    "tags": []
   },
   "outputs": [],
   "source": [
    "# https://github.com/phillipi/pix2pix/tree/master\n",
    "# https://neptune.ai/blog/pix2pix-key-model-architecture-decisions"
   ]
  },
  {
   "cell_type": "markdown",
   "id": "123caf01-5614-4b10-828c-75331a68fbb9",
   "metadata": {},
   "source": [
    "### Vanilla GAN"
   ]
  },
  {
   "cell_type": "markdown",
   "id": "be3a4856-b9a2-4f60-be27-fc366bc805d5",
   "metadata": {},
   "source": [
    "The generator takes in noise (Gaussian distribution) and generates samples similar to the original dataset that they are trained on."
   ]
  },
  {
   "cell_type": "code",
   "execution_count": 20,
   "id": "a454a76b-2149-4262-8c61-a2e28ca0b3a8",
   "metadata": {
    "tags": []
   },
   "outputs": [],
   "source": [
    "class Generator(nn.Module):\n",
    "    def __init__(self, zdim, img_dim):\n",
    "        super().__init__()\n",
    "        self.gen = nn.Sequential(\n",
    "            nn.Linear(z_dim, 256),\n",
    "            nn.LeakyReLU(0.01),\n",
    "            nn.Linear(256, img_dim),\n",
    "            nn.Tanh()\n",
    "        )\n",
    "        \n",
    "    def forward(self, x):\n",
    "        return self.gen(x)"
   ]
  },
  {
   "cell_type": "code",
   "execution_count": 22,
   "id": "169a0611-42cb-4fe4-b640-abf85013e2d8",
   "metadata": {
    "tags": []
   },
   "outputs": [],
   "source": [
    "class Discriminator(nn.Module):\n",
    "    def __init__(self, in_features):\n",
    "        super().__init__()\n",
    "        self.disc = nn.Sequential(\n",
    "            nn.Linear(in_features, 128),\n",
    "            nn.LeakyReLU(0.01),\n",
    "            nn.Linear(128, 1),\n",
    "            nn.Sigmoid() # binary classification--yes or no\n",
    "        )\n",
    "    def forward(self, x):\n",
    "            return self.disc(x)"
   ]
  },
  {
   "cell_type": "markdown",
   "id": "7217903c-733f-4658-a170-a45ead18e0bf",
   "metadata": {},
   "source": [
    "### U-Net Generator for pix2pix cGAN"
   ]
  },
  {
   "cell_type": "markdown",
   "id": "ebdcdbb4-135e-42e4-b9f4-041fe90dc508",
   "metadata": {
    "tags": []
   },
   "source": [
    "modified U-Net generator--encoder (downsample) and decoder (upsample)\n",
    "\n",
    "encoder: [Convolution -> BatchNorm -> Leaky ReLU (helps gradients flow)]\n",
    "decoder: [Transposed Convolution -> BatchNorm -> Dropout (first 3 blocks) -> ReLU]\n",
    "\n",
    "notes: kind of like the semantic segmentation"
   ]
  },
  {
   "cell_type": "code",
   "execution_count": 25,
   "id": "7d094496-3c5c-41ca-835a-53c8cc93fd81",
   "metadata": {
    "tags": []
   },
   "outputs": [],
   "source": [
    "# https://www.tensorflow.org/tutorials/generative/pix2pix"
   ]
  },
  {
   "cell_type": "code",
   "execution_count": null,
   "id": "3097c6ff-37be-4c08-ab81-02964560db34",
   "metadata": {},
   "outputs": [],
   "source": []
  }
 ],
 "metadata": {
  "kernelspec": {
   "display_name": "Python 3 (ipykernel)",
   "language": "python",
   "name": "python3"
  },
  "language_info": {
   "codemirror_mode": {
    "name": "ipython",
    "version": 3
   },
   "file_extension": ".py",
   "mimetype": "text/x-python",
   "name": "python",
   "nbconvert_exporter": "python",
   "pygments_lexer": "ipython3",
   "version": "3.11.5"
  }
 },
 "nbformat": 4,
 "nbformat_minor": 5
}
